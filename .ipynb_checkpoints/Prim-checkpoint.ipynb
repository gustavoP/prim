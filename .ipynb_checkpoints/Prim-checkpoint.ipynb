{
 "cells": [
  {
   "cell_type": "code",
   "execution_count": 412,
   "metadata": {},
   "outputs": [],
   "source": [
    "import os\n",
    "import pandas as pd\n",
    "import numpy as np\n",
    "import matplotlib.pyplot as plt\n",
    "from networkx import nx\n",
    "from networkx.algorithms import tree\n",
    "import sys\n",
    "\n",
    "INF = 999999"
   ]
  },
  {
   "cell_type": "code",
   "execution_count": 402,
   "metadata": {},
   "outputs": [],
   "source": [
    "# Arquivo deve ter nós inteiros sequenciais começando de 1, o peso pode ser ponto flutuante\n",
    "path = os.getcwd() + \"\\\\Arquivos\\\\G1W.txt\"  \n",
    "data = pd.read_csv(path, header=None, sep=\" \", names = [\"n1\", \"n2\", \"weight\"], dtype = {'n1':int ,'n2':int ,'weight':np.float})"
   ]
  },
  {
   "cell_type": "markdown",
   "metadata": {},
   "source": [
    "# Grafo de entrada\n",
    "Visualização do grafo."
   ]
  },
  {
   "cell_type": "code",
   "execution_count": 403,
   "metadata": {},
   "outputs": [
    {
     "data": {
      "text/html": [
       "<div>\n",
       "<style scoped>\n",
       "    .dataframe tbody tr th:only-of-type {\n",
       "        vertical-align: middle;\n",
       "    }\n",
       "\n",
       "    .dataframe tbody tr th {\n",
       "        vertical-align: top;\n",
       "    }\n",
       "\n",
       "    .dataframe thead th {\n",
       "        text-align: right;\n",
       "    }\n",
       "</style>\n",
       "<table border=\"1\" class=\"dataframe\">\n",
       "  <thead>\n",
       "    <tr style=\"text-align: right;\">\n",
       "      <th></th>\n",
       "      <th>n1</th>\n",
       "      <th>n2</th>\n",
       "      <th>weight</th>\n",
       "    </tr>\n",
       "  </thead>\n",
       "  <tbody>\n",
       "    <tr>\n",
       "      <th>0</th>\n",
       "      <td>1</td>\n",
       "      <td>2</td>\n",
       "      <td>6.0</td>\n",
       "    </tr>\n",
       "    <tr>\n",
       "      <th>1</th>\n",
       "      <td>1</td>\n",
       "      <td>4</td>\n",
       "      <td>2.0</td>\n",
       "    </tr>\n",
       "    <tr>\n",
       "      <th>2</th>\n",
       "      <td>2</td>\n",
       "      <td>3</td>\n",
       "      <td>3.0</td>\n",
       "    </tr>\n",
       "    <tr>\n",
       "      <th>3</th>\n",
       "      <td>2</td>\n",
       "      <td>5</td>\n",
       "      <td>4.0</td>\n",
       "    </tr>\n",
       "    <tr>\n",
       "      <th>4</th>\n",
       "      <td>3</td>\n",
       "      <td>4</td>\n",
       "      <td>5.0</td>\n",
       "    </tr>\n",
       "  </tbody>\n",
       "</table>\n",
       "</div>"
      ],
      "text/plain": [
       "   n1  n2  weight\n",
       "0   1   2     6.0\n",
       "1   1   4     2.0\n",
       "2   2   3     3.0\n",
       "3   2   5     4.0\n",
       "4   3   4     5.0"
      ]
     },
     "execution_count": 403,
     "metadata": {},
     "output_type": "execute_result"
    }
   ],
   "source": [
    "nodes = pd.unique(data[['n1', 'n2']].values.ravel('K'))\n",
    "n_arcs = data.shape[0]\n",
    "n_nodes = max(data['n1'].max(),data['n2'].max())\n",
    "\n",
    "data.head()"
   ]
  },
  {
   "cell_type": "code",
   "execution_count": 404,
   "metadata": {
    "scrolled": true
   },
   "outputs": [
    {
     "data": {
      "image/png": "[encoded data removed]",
      "text/plain": [
       "<Figure size 432x288 with 1 Axes>"
      ]
     },
     "metadata": {},
     "output_type": "display_data"
    }
   ],
   "source": [
    "G=nx.from_pandas_edgelist(data, 'n1', 'n2', 'weight')\n",
    "if not nx.is_connected(G):\n",
    "    sys.exit('Grafo deve ser conexo')\n",
    "\n",
    "pos = nx.spring_layout(G)\n",
    "nx.draw(G, pos = pos,with_labels = True)\n",
    "nx.draw_networkx_edge_labels(G, pos = pos,edge_labels=nx.get_edge_attributes(G,'weight'))\n",
    "plt.show()"
   ]
  },
  {
   "cell_type": "markdown",
   "metadata": {},
   "source": [
    "# Prim\n",
    "Aplicando o algoritmo de Prim"
   ]
  },
  {
   "cell_type": "code",
   "execution_count": 405,
   "metadata": {},
   "outputs": [],
   "source": [
    "#Função que retorna o indice de menor peso\n",
    "def minWeight(key, mst):\n",
    "    #for idx,node in enumerate(mst):\n",
    "    minWeight = INF\n",
    "    minIndex = None\n",
    "    for i in range(n_nodes):\n",
    "        if key[i] < minWeight and mst[i] == None:\n",
    "            minWeight = key[i]\n",
    "            minIndex = i\n",
    "    return minIndex"
   ]
  },
  {
   "cell_type": "code",
   "execution_count": 406,
   "metadata": {},
   "outputs": [],
   "source": [
    "def primGraph(pi):\n",
    "    primData = pd.DataFrame(columns=['n1', 'n2', 'weight'])\n",
    "    j=0;\n",
    "    for i in range(n_nodes):\n",
    "        if pi[i] != None:\n",
    "            #try eh pra verificar n1-n2 ou n2-n1\n",
    "            try:\n",
    "                w = G[pi[i]][i+1]['weight']\n",
    "            except KeyError:\n",
    "                w = G[i+1][pi[i]]['weight']\n",
    "            #primData.loc[j] = [pi[i], nodes[i], G[nodes[i]][nodes[pi[i]]]['weight']]\n",
    "            primData.loc[j] = [pi[i], i+1, w] #i+1 = node\n",
    "            j = j+1\n",
    "    \n",
    "    Gp = nx.from_pandas_edgelist(primData, 'n1', 'n2', 'weight')\n",
    "    if not nx.is_connected(Gp):\n",
    "        sys.exit('Grafo deveria ser conexo')\n",
    "    pos = nx.spring_layout(Gp)\n",
    "    nx.draw(Gp, pos = pos,with_labels = True)\n",
    "    nx.draw_networkx_edge_labels(Gp, pos = pos,edge_labels=nx.get_edge_attributes(Gp,'weight'))\n",
    "    plt.show()\n",
    "    return primData"
   ]
  },
  {
   "cell_type": "code",
   "execution_count": 407,
   "metadata": {},
   "outputs": [],
   "source": [
    "def prim(node):\n",
    "    key = np.full((n_nodes),INF)\n",
    "    pi = np.full((n_nodes),None)\n",
    "    mst = np.full((n_nodes), None)\n",
    "    \n",
    "    #prim\n",
    "    #key[np.where(nodes == node)[0][0]] = 0 #inicial node\n",
    "    key[node-1] = 0 #initial node\n",
    "    \n",
    "    for it in range(n_nodes):\n",
    "        u_idx = minWeight(key, mst) #node index of min weght\n",
    "        mst[u_idx] = True\n",
    "        \n",
    "        for i in G.neighbors(u_idx+1): #u_idx+1 = noh u\n",
    "            try:\n",
    "                w = G[int(u_idx+1)][i]['weight'] #it+1 = o noh referente ao indice it\n",
    "            except KeyError:\n",
    "                w = G[i][int(u_idx+1)]['weight'] #it+1 = o noh referente ao indice it\n",
    "                \n",
    "            if w>0 and mst[int(i-1)] == None and key[int(i-1)] >w:  #i-1 = indice do noh i\n",
    "                #se o peso for maior que zero, se o noh nao tiver sido visitado ainda, e o peso desse eh maior que o outro\n",
    "                key[int(i-1)] = w\n",
    "                pi[int(i-1)] = u_idx+1\n",
    "\n",
    "    \n",
    "    return pi, np.sum(key)\n",
    "    "
   ]
  },
  {
   "cell_type": "code",
   "execution_count": 408,
   "metadata": {},
   "outputs": [
    {
     "name": "stdout",
     "output_type": "stream",
     "text": [
      "Wall time: 0 ns\n"
     ]
    }
   ],
   "source": [
    "%%time\n",
    "pi, cost = prim(3)"
   ]
  },
  {
   "cell_type": "code",
   "execution_count": 410,
   "metadata": {},
   "outputs": [
    {
     "data": {
      "image/png": "[encoded data removed]",
      "text/plain": [
       "<Figure size 432x288 with 1 Axes>"
      ]
     },
     "metadata": {},
     "output_type": "display_data"
    },
    {
     "name": "stdout",
     "output_type": "stream",
     "text": [
      "Wall time: 208 ms\n"
     ]
    },
    {
     "data": {
      "text/html": [
       "<div>\n",
       "<style scoped>\n",
       "    .dataframe tbody tr th:only-of-type {\n",
       "        vertical-align: middle;\n",
       "    }\n",
       "\n",
       "    .dataframe tbody tr th {\n",
       "        vertical-align: top;\n",
       "    }\n",
       "\n",
       "    .dataframe thead th {\n",
       "        text-align: right;\n",
       "    }\n",
       "</style>\n",
       "<table border=\"1\" class=\"dataframe\">\n",
       "  <thead>\n",
       "    <tr style=\"text-align: right;\">\n",
       "      <th></th>\n",
       "      <th>n1</th>\n",
       "      <th>n2</th>\n",
       "      <th>weight</th>\n",
       "    </tr>\n",
       "  </thead>\n",
       "  <tbody>\n",
       "    <tr>\n",
       "      <th>0</th>\n",
       "      <td>4.0</td>\n",
       "      <td>1.0</td>\n",
       "      <td>2.0</td>\n",
       "    </tr>\n",
       "    <tr>\n",
       "      <th>1</th>\n",
       "      <td>3.0</td>\n",
       "      <td>2.0</td>\n",
       "      <td>3.0</td>\n",
       "    </tr>\n",
       "    <tr>\n",
       "      <th>2</th>\n",
       "      <td>5.0</td>\n",
       "      <td>4.0</td>\n",
       "      <td>1.0</td>\n",
       "    </tr>\n",
       "    <tr>\n",
       "      <th>3</th>\n",
       "      <td>2.0</td>\n",
       "      <td>5.0</td>\n",
       "      <td>4.0</td>\n",
       "    </tr>\n",
       "    <tr>\n",
       "      <th>4</th>\n",
       "      <td>5.0</td>\n",
       "      <td>6.0</td>\n",
       "      <td>1.0</td>\n",
       "    </tr>\n",
       "    <tr>\n",
       "      <th>5</th>\n",
       "      <td>6.0</td>\n",
       "      <td>7.0</td>\n",
       "      <td>2.0</td>\n",
       "    </tr>\n",
       "  </tbody>\n",
       "</table>\n",
       "</div>"
      ],
      "text/plain": [
       "    n1   n2  weight\n",
       "0  4.0  1.0     2.0\n",
       "1  3.0  2.0     3.0\n",
       "2  5.0  4.0     1.0\n",
       "3  2.0  5.0     4.0\n",
       "4  5.0  6.0     1.0\n",
       "5  6.0  7.0     2.0"
      ]
     },
     "execution_count": 410,
     "metadata": {},
     "output_type": "execute_result"
    }
   ],
   "source": [
    "%%time\n",
    "primGraph(pi)"
   ]
  },
  {
   "cell_type": "markdown",
   "metadata": {},
   "source": [
    "# Comparando com solução já existente"
   ]
  },
  {
   "cell_type": "code",
   "execution_count": 413,
   "metadata": {},
   "outputs": [
    {
     "name": "stdout",
     "output_type": "stream",
     "text": [
      "Wall time: 0 ns\n"
     ]
    }
   ],
   "source": [
    "%%time\n",
    "mst = tree.minimum_spanning_edges(G, algorithm='prim', data=False)\n"
   ]
  },
  {
   "cell_type": "markdown",
   "metadata": {},
   "source": [
    "#### Tentar uma comparação mais igualitária, com os mesmo retornos das funções."
   ]
  }
 ],
 "metadata": {
  "kernelspec": {
   "display_name": "Python 3",
   "language": "python",
   "name": "python3"
  },
  "language_info": {
   "codemirror_mode": {
    "name": "ipython",
    "version": 3
   },
   "file_extension": ".py",
   "mimetype": "text/x-python",
   "name": "python",
   "nbconvert_exporter": "python",
   "pygments_lexer": "ipython3",
   "version": "3.6.5"
  }
 },
 "nbformat": 4,
 "nbformat_minor": 2
}
